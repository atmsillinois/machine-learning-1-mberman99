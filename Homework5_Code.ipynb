{
 "cells": [
  {
   "cell_type": "code",
   "execution_count": 1,
   "metadata": {},
   "outputs": [],
   "source": [
    "import numpy as np\n",
    "import pandas as pd\n",
    "import xarray as xr\n",
    "import matplotlib.pyplot as plt\n",
    "import warnings\n",
    "warnings.filterwarnings(\"ignore\")"
   ]
  },
  {
   "cell_type": "code",
   "execution_count": 2,
   "metadata": {},
   "outputs": [
    {
     "data": {
      "text/html": [
       "<div>\n",
       "<style scoped>\n",
       "    .dataframe tbody tr th:only-of-type {\n",
       "        vertical-align: middle;\n",
       "    }\n",
       "\n",
       "    .dataframe tbody tr th {\n",
       "        vertical-align: top;\n",
       "    }\n",
       "\n",
       "    .dataframe thead th {\n",
       "        text-align: right;\n",
       "    }\n",
       "</style>\n",
       "<table border=\"1\" class=\"dataframe\">\n",
       "  <thead>\n",
       "    <tr style=\"text-align: right;\">\n",
       "      <th></th>\n",
       "      <th>Unnamed: 0</th>\n",
       "      <th>Zh (dBZ)</th>\n",
       "      <th>Zdr (dB)</th>\n",
       "      <th>Ldr (dB)</th>\n",
       "      <th>Kdp (deg km-1)</th>\n",
       "      <th>Ah (dBZ/km)</th>\n",
       "      <th>Adr (dB/km)</th>\n",
       "      <th>R (mm/hr)</th>\n",
       "    </tr>\n",
       "  </thead>\n",
       "  <tbody>\n",
       "    <tr>\n",
       "      <th>0</th>\n",
       "      <td>0</td>\n",
       "      <td>23.144878</td>\n",
       "      <td>0.418637</td>\n",
       "      <td>-41.757733</td>\n",
       "      <td>0.005395</td>\n",
       "      <td>0.000290</td>\n",
       "      <td>0.000012</td>\n",
       "      <td>2.393520</td>\n",
       "    </tr>\n",
       "    <tr>\n",
       "      <th>1</th>\n",
       "      <td>1</td>\n",
       "      <td>22.737156</td>\n",
       "      <td>0.322850</td>\n",
       "      <td>-43.772069</td>\n",
       "      <td>0.005194</td>\n",
       "      <td>0.000360</td>\n",
       "      <td>0.000012</td>\n",
       "      <td>3.502699</td>\n",
       "    </tr>\n",
       "    <tr>\n",
       "      <th>2</th>\n",
       "      <td>2</td>\n",
       "      <td>26.869826</td>\n",
       "      <td>0.330948</td>\n",
       "      <td>-43.577399</td>\n",
       "      <td>0.013385</td>\n",
       "      <td>0.000903</td>\n",
       "      <td>0.000030</td>\n",
       "      <td>8.627561</td>\n",
       "    </tr>\n",
       "    <tr>\n",
       "      <th>3</th>\n",
       "      <td>3</td>\n",
       "      <td>28.540561</td>\n",
       "      <td>0.399480</td>\n",
       "      <td>-42.139731</td>\n",
       "      <td>0.018872</td>\n",
       "      <td>0.001036</td>\n",
       "      <td>0.000043</td>\n",
       "      <td>8.424447</td>\n",
       "    </tr>\n",
       "    <tr>\n",
       "      <th>4</th>\n",
       "      <td>4</td>\n",
       "      <td>30.500127</td>\n",
       "      <td>0.543758</td>\n",
       "      <td>-39.763087</td>\n",
       "      <td>0.027438</td>\n",
       "      <td>0.001157</td>\n",
       "      <td>0.000064</td>\n",
       "      <td>8.189291</td>\n",
       "    </tr>\n",
       "    <tr>\n",
       "      <th>...</th>\n",
       "      <td>...</td>\n",
       "      <td>...</td>\n",
       "      <td>...</td>\n",
       "      <td>...</td>\n",
       "      <td>...</td>\n",
       "      <td>...</td>\n",
       "      <td>...</td>\n",
       "      <td>...</td>\n",
       "    </tr>\n",
       "    <tr>\n",
       "      <th>18964</th>\n",
       "      <td>18964</td>\n",
       "      <td>31.515997</td>\n",
       "      <td>0.579955</td>\n",
       "      <td>-39.244229</td>\n",
       "      <td>0.034048</td>\n",
       "      <td>0.001417</td>\n",
       "      <td>0.000080</td>\n",
       "      <td>10.648020</td>\n",
       "    </tr>\n",
       "    <tr>\n",
       "      <th>18965</th>\n",
       "      <td>18965</td>\n",
       "      <td>29.993334</td>\n",
       "      <td>0.567935</td>\n",
       "      <td>-39.399188</td>\n",
       "      <td>0.024134</td>\n",
       "      <td>0.001032</td>\n",
       "      <td>0.000057</td>\n",
       "      <td>7.981875</td>\n",
       "    </tr>\n",
       "    <tr>\n",
       "      <th>18966</th>\n",
       "      <td>18966</td>\n",
       "      <td>31.685913</td>\n",
       "      <td>0.655681</td>\n",
       "      <td>-38.375696</td>\n",
       "      <td>0.033971</td>\n",
       "      <td>0.001165</td>\n",
       "      <td>0.000081</td>\n",
       "      <td>6.822691</td>\n",
       "    </tr>\n",
       "    <tr>\n",
       "      <th>18967</th>\n",
       "      <td>18967</td>\n",
       "      <td>32.980096</td>\n",
       "      <td>0.768586</td>\n",
       "      <td>-37.166218</td>\n",
       "      <td>0.043117</td>\n",
       "      <td>0.001285</td>\n",
       "      <td>0.000105</td>\n",
       "      <td>6.801169</td>\n",
       "    </tr>\n",
       "    <tr>\n",
       "      <th>18968</th>\n",
       "      <td>18968</td>\n",
       "      <td>28.731399</td>\n",
       "      <td>0.804155</td>\n",
       "      <td>-36.795913</td>\n",
       "      <td>0.015908</td>\n",
       "      <td>0.000469</td>\n",
       "      <td>0.000039</td>\n",
       "      <td>2.582440</td>\n",
       "    </tr>\n",
       "  </tbody>\n",
       "</table>\n",
       "<p>18969 rows × 8 columns</p>\n",
       "</div>"
      ],
      "text/plain": [
       "       Unnamed: 0   Zh (dBZ)  Zdr (dB)   Ldr (dB)  Kdp (deg km-1)  \\\n",
       "0               0  23.144878  0.418637 -41.757733        0.005395   \n",
       "1               1  22.737156  0.322850 -43.772069        0.005194   \n",
       "2               2  26.869826  0.330948 -43.577399        0.013385   \n",
       "3               3  28.540561  0.399480 -42.139731        0.018872   \n",
       "4               4  30.500127  0.543758 -39.763087        0.027438   \n",
       "...           ...        ...       ...        ...             ...   \n",
       "18964       18964  31.515997  0.579955 -39.244229        0.034048   \n",
       "18965       18965  29.993334  0.567935 -39.399188        0.024134   \n",
       "18966       18966  31.685913  0.655681 -38.375696        0.033971   \n",
       "18967       18967  32.980096  0.768586 -37.166218        0.043117   \n",
       "18968       18968  28.731399  0.804155 -36.795913        0.015908   \n",
       "\n",
       "       Ah (dBZ/km)  Adr (dB/km)  R (mm/hr)  \n",
       "0         0.000290     0.000012   2.393520  \n",
       "1         0.000360     0.000012   3.502699  \n",
       "2         0.000903     0.000030   8.627561  \n",
       "3         0.001036     0.000043   8.424447  \n",
       "4         0.001157     0.000064   8.189291  \n",
       "...            ...          ...        ...  \n",
       "18964     0.001417     0.000080  10.648020  \n",
       "18965     0.001032     0.000057   7.981875  \n",
       "18966     0.001165     0.000081   6.822691  \n",
       "18967     0.001285     0.000105   6.801169  \n",
       "18968     0.000469     0.000039   2.582440  \n",
       "\n",
       "[18969 rows x 8 columns]"
      ]
     },
     "execution_count": 2,
     "metadata": {},
     "output_type": "execute_result"
    }
   ],
   "source": [
    "#Load the data\n",
    "radar_data = pd.read_csv(r'/data/keeling/a/melinda3/Homework/ATMS523/atms523-repo/Module5/machine-learning-1-mberman99/homework/radar_parameters.csv')\n",
    "\n",
    "radar_data"
   ]
  },
  {
   "cell_type": "code",
   "execution_count": 3,
   "metadata": {},
   "outputs": [],
   "source": [
    "#Split into input features and prediction data\n",
    "rain_rate = radar_data['R (mm/hr)']\n",
    "features = radar_data.drop('R (mm/hr)', axis =1)"
   ]
  },
  {
   "cell_type": "code",
   "execution_count": 4,
   "metadata": {},
   "outputs": [],
   "source": [
    "#Split the data into training and testing data\n",
    "from sklearn.model_selection import train_test_split\n",
    "\n",
    "X_train, X_test, Y_train, Y_test = train_test_split(features, rain_rate, test_size=0.3)"
   ]
  },
  {
   "cell_type": "code",
   "execution_count": 5,
   "metadata": {},
   "outputs": [],
   "source": [
    "#Train a linear regression model on the data \n",
    "#Validate the model with the testing data\n",
    "\n",
    "from sklearn.linear_model import LinearRegression\n",
    "rain_linear_model = LinearRegression().fit(X_train, Y_train)\n",
    "predicted_rain_rate = rain_linear_model.predict(X_test)"
   ]
  },
  {
   "cell_type": "code",
   "execution_count": 6,
   "metadata": {},
   "outputs": [],
   "source": [
    "#Compare the R^2 and RMSE to a formula\n",
    "\n",
    "zh = radar_data['Zh (dBZ)']\n",
    "z = 10 ** (zh/10)\n",
    "r = (z/200) ** (1/1.6)\n"
   ]
  },
  {
   "cell_type": "code",
   "execution_count": 7,
   "metadata": {},
   "outputs": [
    {
     "name": "stdout",
     "output_type": "stream",
     "text": [
      "0.9890293530817221 0.9253498015342462\n",
      "0.2407320902415907 7.157590840042378\n"
     ]
    }
   ],
   "source": [
    "#Calculate the R^2 and RMSE for the model and compare it to the R^2 and RMSE for the equation predicted values\n",
    "from sklearn.metrics import r2_score, mean_squared_error\n",
    "#Training Data\n",
    "r2_train_ml = r2_score(Y_test, predicted_rain_rate)\n",
    "rmse_ml = np.sqrt(mean_squared_error(Y_test,  predicted_rain_rate))\n",
    "\n",
    "r2_equation = r2_score(r, radar_data['R (mm/hr)'])\n",
    "rmse_equation = np.sqrt(mean_squared_error(r, radar_data['R (mm/hr)']))\n",
    "\n",
    "print(r2_train_ml, rmse_ml)\n",
    "print(r2_equation, rmse_equation)\n"
   ]
  },
  {
   "cell_type": "code",
   "execution_count": 8,
   "metadata": {},
   "outputs": [],
   "source": [
    "from sklearn.preprocessing import PolynomialFeatures\n",
    "from sklearn.linear_model import LinearRegression\n",
    "from sklearn.pipeline import make_pipeline\n",
    "\n",
    "def PolynomialRegression(degree=2, **kwargs):\n",
    "    return make_pipeline(PolynomialFeatures(degree),\n",
    "                         LinearRegression(**kwargs))"
   ]
  },
  {
   "cell_type": "code",
   "execution_count": 9,
   "metadata": {},
   "outputs": [],
   "source": [
    "from sklearn.model_selection import GridSearchCV\n",
    "\n",
    "param_grid = {'polynomialfeatures__degree': np.arange(7)}\n",
    "\n",
    "grid = GridSearchCV(PolynomialRegression(), param_grid, cv=7)"
   ]
  },
  {
   "cell_type": "code",
   "execution_count": 10,
   "metadata": {},
   "outputs": [
    {
     "data": {
      "text/plain": [
       "{'polynomialfeatures__degree': 3}"
      ]
     },
     "execution_count": 10,
     "metadata": {},
     "output_type": "execute_result"
    }
   ],
   "source": [
    "#Repeat 2 for a grid search over polynomials from 0-21\n",
    "grid.fit(X_train, Y_train);\n",
    "\n",
    "grid.best_params_\n"
   ]
  },
  {
   "cell_type": "code",
   "execution_count": 11,
   "metadata": {},
   "outputs": [],
   "source": [
    "poly_model = grid.best_estimator_"
   ]
  },
  {
   "cell_type": "code",
   "execution_count": 12,
   "metadata": {},
   "outputs": [
    {
     "name": "stdout",
     "output_type": "stream",
     "text": [
      "0.9995409081944144 0.1899206750694736\n"
     ]
    }
   ],
   "source": [
    "#Evaluate the model by printing the R2 and the RMSE\n",
    "poly_predicted = poly_model.predict(X_test)\n",
    "poly_r2 = r2_score(poly_predicted, Y_test)\n",
    "rmse_equation = np.sqrt(mean_squared_error(poly_predicted, Y_test))\n",
    "\n",
    "print(poly_r2, rmse_equation)"
   ]
  },
  {
   "cell_type": "markdown",
   "metadata": {},
   "source": [
    "# Repeat the first part with a random forest regression"
   ]
  },
  {
   "cell_type": "code",
   "execution_count": 9,
   "metadata": {},
   "outputs": [],
   "source": [
    "from sklearn.ensemble import RandomForestRegressor\n",
    "from sklearn.model_selection import GridSearchCV\n",
    "from sklearn.model_selection import RandomizedSearchCV\n",
    "\n",
    "param_grid = {'bootstrap': [True, False],  \n",
    "'max_depth': [10, 20, 30, 40, 50, 60, 70, 80, 90, 100, None],  \n",
    "'max_features': ['auto', 'sqrt'],  \n",
    "'min_samples_leaf': [1, 2, 4],  \n",
    "'min_samples_split': [2, 5, 10],  \n",
    "'n_estimators': [200, 400, 600, 800, 1000, 1200, 1400, 1600, 1800, 2000]}\n",
    "\n",
    "#I decreased some of the options for the model fit because it was taking a very long time to run. \n",
    "#It was taking the RFR hours to fit the data so I wanted to make it run faster\n",
    "#by reducing the number of fit options"
   ]
  },
  {
   "cell_type": "code",
   "execution_count": 10,
   "metadata": {},
   "outputs": [],
   "source": [
    "rain_random_forest = RandomForestRegressor\n",
    "\n",
    "random_forest_grid = RandomizedSearchCV(rain_random_forest(), param_grid, n_iter = 50)\n",
    "\n",
    "#Decreased the interations to 50, 75 and 100 took a long time"
   ]
  },
  {
   "cell_type": "code",
   "execution_count": 11,
   "metadata": {},
   "outputs": [],
   "source": [
    "random_forest_grid.fit(X_train, Y_train)"
   ]
  },
  {
   "cell_type": "code",
   "execution_count": null,
   "metadata": {},
   "outputs": [
    {
     "ename": "AttributeError",
     "evalue": "'GridSearchCV' object has no attribute 'best_estimators_'",
     "output_type": "error",
     "traceback": [
      "\u001b[0;31m---------------------------------------------------------------------------\u001b[0m",
      "\u001b[0;31mAttributeError\u001b[0m                            Traceback (most recent call last)",
      "Cell \u001b[0;32mIn [15], line 2\u001b[0m\n\u001b[1;32m      1\u001b[0m \u001b[38;5;66;03m#Perform a grid search for the Random Forest Regressor\u001b[39;00m\n\u001b[0;32m----> 2\u001b[0m rf_model \u001b[38;5;241m=\u001b[39m \u001b[43mrandom_forest_grid\u001b[49m\u001b[38;5;241;43m.\u001b[39;49m\u001b[43mbest_estimators_\u001b[49m\n",
      "\u001b[0;31mAttributeError\u001b[0m: 'GridSearchCV' object has no attribute 'best_estimators_'"
     ]
    }
   ],
   "source": [
    "#Perform a grid search for the Random Forest Regressor\n",
    "rf_model = random_forest_grid.best_estimators_"
   ]
  },
  {
   "cell_type": "code",
   "execution_count": null,
   "metadata": {},
   "outputs": [
    {
     "ename": "NameError",
     "evalue": "name 'rf_model' is not defined",
     "output_type": "error",
     "traceback": [
      "\u001b[0;31m---------------------------------------------------------------------------\u001b[0m",
      "\u001b[0;31mNameError\u001b[0m                                 Traceback (most recent call last)",
      "Cell \u001b[0;32mIn [8], line 1\u001b[0m\n\u001b[0;32m----> 1\u001b[0m rf_predicted \u001b[38;5;241m=\u001b[39m \u001b[43mrf_model\u001b[49m\u001b[38;5;241m.\u001b[39mpredict(X_test)\n\u001b[1;32m      2\u001b[0m rf_r2 \u001b[38;5;241m=\u001b[39m r2_score(rf_predicted, Y_test)\n\u001b[1;32m      3\u001b[0m rmse_rf \u001b[38;5;241m=\u001b[39m np\u001b[38;5;241m.\u001b[39msqrt(mean_squared_error(rf_predicted, Y_test))\n",
      "\u001b[0;31mNameError\u001b[0m: name 'rf_model' is not defined"
     ]
    }
   ],
   "source": [
    "rf_predicted = rf_model.predict(X_test)\n",
    "rf_r2 = r2_score(rf_predicted, Y_test)\n",
    "rmse_rf = np.sqrt(mean_squared_error(rf_predicted, Y_test))\n",
    "\n",
    "print(rf_r2, rmse_rf)"
   ]
  },
  {
   "cell_type": "code",
   "execution_count": null,
   "metadata": {},
   "outputs": [],
   "source": []
  }
 ],
 "metadata": {
  "kernelspec": {
   "display_name": "Python 3.10.6 ('atms523_env')",
   "language": "python",
   "name": "python3"
  },
  "language_info": {
   "codemirror_mode": {
    "name": "ipython",
    "version": 3
   },
   "file_extension": ".py",
   "mimetype": "text/x-python",
   "name": "python",
   "nbconvert_exporter": "python",
   "pygments_lexer": "ipython3",
   "version": "3.10.6"
  },
  "orig_nbformat": 4,
  "vscode": {
   "interpreter": {
    "hash": "b3943a0242e06813b75cc2e0b92cc2f4499e542abe63268c8f99ab8c33aad988"
   }
  }
 },
 "nbformat": 4,
 "nbformat_minor": 2
}
